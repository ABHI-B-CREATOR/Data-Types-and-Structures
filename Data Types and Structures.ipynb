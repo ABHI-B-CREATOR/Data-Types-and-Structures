{
 "cells": [
  {
   "cell_type": "markdown",
   "id": "cc3b2c92-a2eb-4aac-824b-5fbf7522c4f7",
   "metadata": {},
   "source": [
    "Question-1 What are data structures, and why are they important?\n",
    "\n",
    "- Data structures is a way of organzing and storing the data so that it can be access and manipulated efficiently. Data structures is important because they store the anykind of data and make code more efficient."
   ]
  },
  {
   "cell_type": "markdown",
   "id": "1426e6f3-846a-4c37-8ba8-218da9de6f1e",
   "metadata": {},
   "source": [
    "Question-2  Explain the difference between mutable and immutable data types with example?\n",
    "\n",
    "  "
   ]
  },
  {
   "cell_type": "code",
   "execution_count": null,
   "id": "f7e7729b-b0b3-48f7-ab91-71ab019a4074",
   "metadata": {},
   "outputs": [],
   "source": [
    "#Answer-\n",
    "#List - list is a mutable data structure .\n",
    " #It can store heterogenous data\n",
    " #List can be store elements in orderly\n",
    "\n",
    "lis= [1,3,4.5,True,]\n",
    "lis[-1]= \"abhi\"\n",
    "\n",
    "#Tuple - Tuple is a immutable data structure .\n",
    "# It also store heterogenous data\n",
    "\n",
    "tupl= (1,2,3.4, \"abhi\")\n",
    "tupl[-1]= True\n",
    "\n",
    "# It gives error because tuple element dosen't change after its creation.\n"
   ]
  },
  {
   "cell_type": "markdown",
   "id": "c1b7928e-5a06-48cf-a6e1-3fda64967944",
   "metadata": {},
   "source": [
    "Question-3 What are the main differences between lists and tuples in Python?\n",
    "\n",
    "- The main differnce between lists and tuples is list is mutable whereas tuple is immutable. In list we use [] brackets but in tuples we use () paranthesis. This is the major difference in list and tuples."
   ]
  },
  {
   "cell_type": "markdown",
   "id": "778519c4-acba-4f9b-a134-1658ac6e4e6f",
   "metadata": {},
   "source": [
    "Question-4 Describe how dictionaries store data?\n",
    "\n",
    "- Dictionaries stores the data in the form of key value pairs."
   ]
  },
  {
   "cell_type": "markdown",
   "id": "7246229b-649f-41ab-80ba-e5a18ab8a8ca",
   "metadata": {},
   "source": [
    "Question-5 Why might you use a set instead of a list in Python?\n",
    "\n",
    "- Basically set is in alphabetically order and are unorderd collection of unique elements.\n",
    "- If you have a complex data and find the unique element in that dataset , there set are usable.\n",
    "- You can make changes in the data using set.\n",
    "- Sets are store only unique elements."
   ]
  },
  {
   "cell_type": "markdown",
   "id": "7f388644-4ad6-4277-aca3-4a3f5e433695",
   "metadata": {},
   "source": [
    "Question-6 What is a string in Python, and how is it different from a list?\n",
    "\n",
    "- String is immutable means, you can't modified it whereas list is mutable ,it can be modified after its creation.\n",
    "- String can only hold the characters whereas a list can store various data types."
   ]
  },
  {
   "cell_type": "markdown",
   "id": "6f575105-7422-4a3f-91f2-bf6819bbd608",
   "metadata": {},
   "source": [
    "Question-7 How do tuples ensure data integrity in Python?\n",
    "\n",
    "- A tuple, elements cannot be modified, added, or removed. This prevents the changes in the data, ensuring that it remains consistent throughout the program's execution."
   ]
  },
  {
   "cell_type": "markdown",
   "id": "ef2c3927-d43c-4d83-a7b0-1c15b0a6ebf1",
   "metadata": {},
   "source": [
    "Question-8 What is a hash table, and how does it relate to dictionaries in python?\n",
    "\n",
    "- A hash table is a data structure that maps keys to values for efficient data retrieval. In Python, a dictionary is used to implement a hash table."
   ]
  },
  {
   "cell_type": "markdown",
   "id": "1d2f81ae-3011-424e-adac-4a91ac0197d9",
   "metadata": {},
   "source": [
    "Question-9 Can lists contain different data types in Python?\n",
    "\n",
    "- Yes, it can store different data types in python."
   ]
  },
  {
   "cell_type": "markdown",
   "id": "d6cf9bf5-1399-4b2e-b8cf-e18a719882e0",
   "metadata": {},
   "source": [
    "Question-10 Explain why strings are immutable in Python?\n",
    "\n",
    "- Strings are immutable because it's element cannot modified after it created."
   ]
  },
  {
   "cell_type": "markdown",
   "id": "5318f2dc-77c0-4e8c-bf98-b7fa747acdac",
   "metadata": {},
   "source": [
    "Question-11 What advantages do dictionaries offer over lists for certain tasks?\n",
    "\n",
    "- Dictionaries define as which can store the data in the form of key value pairs.\n",
    "- If you have a data of employees where the no. and employee name is mentioned . So, in that case you can use dictionary to make key value pairs of the employees.\n",
    "- It can store the data in pairs.\n",
    "- The indexes provided by the python is replaced by the keys."
   ]
  },
  {
   "cell_type": "markdown",
   "id": "d11711b8-d385-47d2-84cf-ff286050d54a",
   "metadata": {},
   "source": [
    "Question-12 Describe a scenario where using a tuple would be preferable over a list?\n",
    "\n"
   ]
  },
  {
   "cell_type": "code",
   "execution_count": 26,
   "id": "d5ffc9c4-472d-4866-9546-99c136b13cab",
   "metadata": {},
   "outputs": [
    {
     "data": {
      "text/plain": [
       "(' employee id', 'debit no.', 'aadhar no.')"
      ]
     },
     "execution_count": 26,
     "metadata": {},
     "output_type": "execute_result"
    }
   ],
   "source": [
    "# Answer\n",
    "# Suppose a employee gets their employee id from the company. Now employee id never be changed or let's say debit card no. it can be never changed.\n",
    "\n",
    "employee=(' employee id', 'debit no.', 'aadhar no.')\n",
    "employee\n",
    "\n",
    "#If you dosen't want any change in element ,you can prefer the tuple.\n",
    "#Data should be protected because it cannot modified.\n",
    "# When you pass tuple in a function ,you are confident that it won't modified the orginal data."
   ]
  },
  {
   "cell_type": "markdown",
   "id": "3f642130-560d-4e48-933b-e50804416efb",
   "metadata": {},
   "source": [
    "Question-13 How do sets handle duplicate values in Python?\n",
    "\n",
    "- Sets are the unorderd collection of unique element. If you write any element twice or thrice ,it simply ignored by set."
   ]
  },
  {
   "cell_type": "markdown",
   "id": "3865c5b1-8e69-4f44-8c73-6e2ffc424399",
   "metadata": {},
   "source": [
    "Question-14 How does the “in” keyword work differently for lists and dictionaries?"
   ]
  },
  {
   "cell_type": "code",
   "execution_count": 22,
   "id": "912b9566-0b0f-42fb-99ac-cad2c73db5e4",
   "metadata": {},
   "outputs": [
    {
     "name": "stdout",
     "output_type": "stream",
     "text": [
      "[10, 20, 30, 40]\n",
      "True\n",
      "False\n",
      "True\n"
     ]
    }
   ],
   "source": [
    "#Answer\n",
    "#When used with a list, the (in) keyword checks if an element is present in the list.\n",
    "my_list = [10, 20, 30, 40]\n",
    "if 10 in my_list:\n",
    "    print(my_list)\n",
    "\n",
    "#When used with a dictionary, the in keyword checks if a key is present in the dictionary.\n",
    "#It does not check for the values or key-value pairs.\n",
    "my_dict = {\"name\": \"Alice\", \"age\": 25, \"city\": \"New York\"}\n",
    "\n",
    "print(\"name\" in my_dict)\n",
    "print(\"Alice\" in my_dict) \n",
    "print(\"age\" in my_dict) \n",
    "\n",
    "    "
   ]
  },
  {
   "cell_type": "markdown",
   "id": "6e903bc7-3ab8-430d-a3fb-34f258523db1",
   "metadata": {},
   "source": [
    "Question-15 Can you modify the elements of a tuple? Explain why or why not?\n",
    "\n",
    "- Nope, you can't modify the elements of a tuple because once a tuple elements is created you cannot modify it , if you do python will raise an error.\n",
    "- tuples are immutable."
   ]
  },
  {
   "cell_type": "markdown",
   "id": "a4e086db-af34-4847-a266-45d9fe249cfe",
   "metadata": {},
   "source": [
    "Question-16 What is a nested dictionary, and give an example of its use case?"
   ]
  },
  {
   "cell_type": "code",
   "execution_count": 68,
   "id": "f8d18428-d0b9-461f-8171-25dbb6f05d66",
   "metadata": {},
   "outputs": [
    {
     "name": "stdout",
     "output_type": "stream",
     "text": [
      "Student 101's Name: abhi (\"student 101's age:\", 20)\n"
     ]
    }
   ],
   "source": [
    "#Answer\n",
    "#A nested dictionary is a dictionary inside another dictionary. \n",
    "# use case:\n",
    "students = {\n",
    "    101: {\"name\": \"abhi\", \"age\": 20, \"grades\": [85, 90, 82]},\n",
    "    102: {\"name\": \"aryan\", \"age\": 22, \"grades\": [78, 82, 80]},\n",
    "    103: {\"name\": \"stak\", \"age\": 21, \"grades\": [92, 88, 94]},\n",
    "}\n",
    "\n",
    "print(\"Student 101's Name:\", students[101][\"name\"],(\"student 101's age:\",students[101][\"age\"]))"
   ]
  },
  {
   "cell_type": "markdown",
   "id": "a8826df8-8510-443a-b0e9-e837d06256e1",
   "metadata": {},
   "source": [
    "Question-17 Describe the time complexity of accessing elements in a dicicionary?\n",
    "\n",
    "- In Python, dictionaries are implemented as hash tables, which allows for efficient data retrieval.\n",
    "- Accessing elements by key is usually very fast."
   ]
  },
  {
   "cell_type": "markdown",
   "id": "10be4201-c996-4ed9-b3e9-2d962e5a4138",
   "metadata": {},
   "source": [
    "Question-18 In what situations are lists preferred over dictionaries?\n",
    "\n",
    "- Lists are preferred over dictionaries when you need to store a sequence of related data where the order of elements is important.\n",
    "- When you need to iterate through data in a specific order, like steps in a process or a list of items in a shopping cart.\n",
    "- If you primarily access elements using their numerical index in the list, without needing to search by a unique key."
   ]
  },
  {
   "cell_type": "markdown",
   "id": "ff957cd7-0138-49bd-b415-91739ce2defa",
   "metadata": {},
   "source": [
    "Question-19 Why are dictionaries considered unordered, and how does that affect data retrieval?\n",
    "\n",
    "- Dictionaries are unorderd but from python 3.7 version, dictionaries retain the insertion.\n",
    "- This means if you iterate over a dictionary the items will be returned in the order they were orderd.\n",
    "- This will affect ,the direct access by key and iterate through a dictionary.\n",
    "\n"
   ]
  },
  {
   "cell_type": "markdown",
   "id": "9b8a2265-cdf9-43fe-a50c-bfbf4bd10e42",
   "metadata": {},
   "source": [
    "Question-20 Explain the difference between a list and a dictionary in terms of data retrieval?\n",
    "\n",
    "# In List\n",
    "- Data Retrieval: Data is accessed using index numbers, which represent the position of elements in the list.\n",
    "- Order: Lists are ordered collections, meaning the order of elements is preserved.\n",
    "# In Dictionary\n",
    "- Data Retrieval: Data is accessed using keys, which are unique identifiers for the values stored in the dictionary.\n",
    "- Order: Dictionaries in Python (from version 3.7 onwards) are ordered by insertion order. Prior to that, they were unordered.\n"
   ]
  },
  {
   "cell_type": "markdown",
   "id": "d85f8c61-38c4-448e-92a9-704e88910792",
   "metadata": {},
   "source": [
    "## PRACTICAL QUESTION"
   ]
  },
  {
   "cell_type": "markdown",
   "id": "79e561a4-6b82-480e-9a87-b5fa96ea9b64",
   "metadata": {},
   "source": [
    "Question-1 Write a code to create a string with your name and print it?"
   ]
  },
  {
   "cell_type": "code",
   "execution_count": 43,
   "id": "51fa3a41-b48c-468b-87e5-a0f96498ae43",
   "metadata": {},
   "outputs": [
    {
     "data": {
      "text/plain": [
       "' Abhi kumar tripathi'"
      ]
     },
     "execution_count": 43,
     "metadata": {},
     "output_type": "execute_result"
    }
   ],
   "source": [
    "name = \" Abhi kumar tripathi\"\n",
    "name"
   ]
  },
  {
   "cell_type": "markdown",
   "id": "c3e683b7-ae58-40d7-aa6d-454c8bdd43a5",
   "metadata": {},
   "source": [
    "Question-2 Write a code to find the length of the string \"Hello World\"?"
   ]
  },
  {
   "cell_type": "code",
   "execution_count": 46,
   "id": "677bac14-442d-4d1c-a409-84539ec05f92",
   "metadata": {},
   "outputs": [
    {
     "data": {
      "text/plain": [
       "13"
      ]
     },
     "execution_count": 46,
     "metadata": {},
     "output_type": "execute_result"
    }
   ],
   "source": [
    "str1= \" HELLO WORLD \"\n",
    "len(str1)"
   ]
  },
  {
   "cell_type": "markdown",
   "id": "c1b28da9-0c6a-42ad-9513-91a631402740",
   "metadata": {},
   "source": [
    "Question-3 Write a code to slice the first 3 characters from the string \"Python Programming\"?"
   ]
  },
  {
   "cell_type": "code",
   "execution_count": 51,
   "id": "6ad53ba6-93e0-4e4d-b5d6-5afaf78f7e93",
   "metadata": {},
   "outputs": [
    {
     "data": {
      "text/plain": [
       "'Pyt'"
      ]
     },
     "execution_count": 51,
     "metadata": {},
     "output_type": "execute_result"
    }
   ],
   "source": [
    "string= \"Python Programming\"\n",
    "string[0:3]"
   ]
  },
  {
   "cell_type": "markdown",
   "id": "d834eb50-af96-4df5-9f20-b5a9ba806d5e",
   "metadata": {},
   "source": [
    "Question-4 Write a code to convert the string \"hello\" to uppercase?"
   ]
  },
  {
   "cell_type": "code",
   "execution_count": 58,
   "id": "67ed0b0c-4655-48c2-8488-22d53bf2ab80",
   "metadata": {},
   "outputs": [
    {
     "data": {
      "text/plain": [
       "'HELLO'"
      ]
     },
     "execution_count": 58,
     "metadata": {},
     "output_type": "execute_result"
    }
   ],
   "source": [
    "String= 'hello'\n",
    "String.upper()"
   ]
  },
  {
   "cell_type": "markdown",
   "id": "5172c7b2-6f6e-4860-9739-95f9b0133235",
   "metadata": {},
   "source": [
    "Question-5 Write a code to replace the word \"apple\" with \"orange\" in the string \"I like apple\"?\n"
   ]
  },
  {
   "cell_type": "code",
   "execution_count": 63,
   "id": "89542fca-2763-4201-82be-674c5a32a16f",
   "metadata": {},
   "outputs": [
    {
     "data": {
      "text/plain": [
       "'i like orange'"
      ]
     },
     "execution_count": 63,
     "metadata": {},
     "output_type": "execute_result"
    }
   ],
   "source": [
    "Str1= \"i like apple\"\n",
    "Str1.replace(\"apple\", \"orange\")"
   ]
  },
  {
   "cell_type": "markdown",
   "id": "927c8cb9-fd61-4091-a22d-e90ec7d5b6e3",
   "metadata": {},
   "source": [
    "Question-6 Write a code to create a list with numbers 1 to 5 and print it?"
   ]
  },
  {
   "cell_type": "code",
   "execution_count": 66,
   "id": "d5864e4e-9425-4b61-9ec7-4c0d06f32ca3",
   "metadata": {},
   "outputs": [
    {
     "name": "stdout",
     "output_type": "stream",
     "text": [
      "[1, 2, 3, 4, 5]\n"
     ]
    }
   ],
   "source": [
    "lis=[1,2,3,4,5]\n",
    "print(lis)"
   ]
  },
  {
   "cell_type": "markdown",
   "id": "af99a559-8bc9-477f-bb2e-c5ee1862be5d",
   "metadata": {},
   "source": [
    "Question-7 Write a code to append the number 10 to the list [1, 2, 3, 4]?"
   ]
  },
  {
   "cell_type": "code",
   "execution_count": 79,
   "id": "43fcaf7c-3416-4379-a5ce-1d5f04895f3c",
   "metadata": {},
   "outputs": [
    {
     "name": "stdout",
     "output_type": "stream",
     "text": [
      "[1, 2, 3, 4, 10]\n"
     ]
    }
   ],
   "source": [
    "lis1= [1,2,3,4]\n",
    "lis1.append(10)\n",
    "\n",
    "print(lis1)"
   ]
  },
  {
   "cell_type": "markdown",
   "id": "2d0e49be-0e46-4a2d-a183-91a52322d30a",
   "metadata": {},
   "source": [
    "Question-8 Write a code to remove the number 3 from the list [1, 2, 3, 4, 5]?"
   ]
  },
  {
   "cell_type": "code",
   "execution_count": 84,
   "id": "d2336a39-debb-45b9-801b-82be5a3f2e1c",
   "metadata": {},
   "outputs": [
    {
     "name": "stdout",
     "output_type": "stream",
     "text": [
      "[1, 2, 4, 5]\n"
     ]
    }
   ],
   "source": [
    "lis2= [1,2,3,4,5]\n",
    "lis2.remove(3)\n",
    "\n",
    "print(lis2)"
   ]
  },
  {
   "cell_type": "markdown",
   "id": "bc52103a-db56-4556-83d8-29bd9cb7c511",
   "metadata": {},
   "source": [
    "Question-9 Write a code to access the second element in the list ['a', 'b', 'c', 'd']?"
   ]
  },
  {
   "cell_type": "code",
   "execution_count": 87,
   "id": "0a2fa5d1-4629-44a1-b878-bb7e01452296",
   "metadata": {},
   "outputs": [
    {
     "data": {
      "text/plain": [
       "'b'"
      ]
     },
     "execution_count": 87,
     "metadata": {},
     "output_type": "execute_result"
    }
   ],
   "source": [
    "word=['a','b','c','d']\n",
    "word[1]"
   ]
  },
  {
   "cell_type": "markdown",
   "id": "d6e93186-2060-4ad8-8770-80610f0414d3",
   "metadata": {},
   "source": [
    "Question-10 Write a code to reverse the list [10, 20, 30, 40, 50]?"
   ]
  },
  {
   "cell_type": "code",
   "execution_count": 94,
   "id": "3f7a816d-857a-41d8-80b5-741192117abb",
   "metadata": {},
   "outputs": [
    {
     "data": {
      "text/plain": [
       "[50, 40, 30, 20, 10]"
      ]
     },
     "execution_count": 94,
     "metadata": {},
     "output_type": "execute_result"
    }
   ],
   "source": [
    "num=[10,20,30,40,50]\n",
    "num[::-1]"
   ]
  },
  {
   "cell_type": "markdown",
   "id": "11c2ad80-5c8f-4de1-b2f9-cf66d32f9398",
   "metadata": {},
   "source": [
    "Question-11 Write a code to create a tuple with the elements 10, 20, 30 and print it?"
   ]
  },
  {
   "cell_type": "code",
   "execution_count": 97,
   "id": "c9da4c9e-c12b-4f76-8d96-9a5f73cdd8f8",
   "metadata": {},
   "outputs": [
    {
     "name": "stdout",
     "output_type": "stream",
     "text": [
      "(10, 20, 30)\n"
     ]
    }
   ],
   "source": [
    "tup=(10,20,30)\n",
    "print (tup)"
   ]
  },
  {
   "cell_type": "markdown",
   "id": "9f5178e6-a918-48c9-ac1d-d4457e9a3fad",
   "metadata": {},
   "source": [
    "Question-12 Write a code to access the first element of the tuple ('apple', 'banana', 'cherry')?"
   ]
  },
  {
   "cell_type": "code",
   "execution_count": 8,
   "id": "8da05a8a-b6cc-4717-b644-9488dd3b5a31",
   "metadata": {},
   "outputs": [
    {
     "name": "stdout",
     "output_type": "stream",
     "text": [
      "apple\n"
     ]
    }
   ],
   "source": [
    "# Creating a tuple\n",
    "fruits = ('apple', 'banana', 'cherry')\n",
    "fruits[0]\n",
    "print(first_element)"
   ]
  },
  {
   "cell_type": "markdown",
   "id": "628f377e-d058-4a33-b91c-2c1560a03d88",
   "metadata": {},
   "source": [
    "Question-13 Write a code to count how many times the number 2 appears in the tuple (1, 2, 3, 2, 4, 2)?"
   ]
  },
  {
   "cell_type": "code",
   "execution_count": 105,
   "id": "f97eb98f-eb94-439c-bc8d-a36f6234904f",
   "metadata": {},
   "outputs": [
    {
     "data": {
      "text/plain": [
       "3"
      ]
     },
     "execution_count": 105,
     "metadata": {},
     "output_type": "execute_result"
    }
   ],
   "source": [
    "digit=(1,2,3,2,4,2)\n",
    "digit.count(2)"
   ]
  },
  {
   "cell_type": "markdown",
   "id": "f8455640-0860-4971-a8f0-28740ac7b7ea",
   "metadata": {},
   "source": [
    "Question-14 Write a code to find the index of the element \"cat\" in the tuple ('dog', 'cat', 'rabbit')?"
   ]
  },
  {
   "cell_type": "code",
   "execution_count": 108,
   "id": "f07eabea-037d-43e1-922d-f44be6a703e6",
   "metadata": {},
   "outputs": [
    {
     "data": {
      "text/plain": [
       "1"
      ]
     },
     "execution_count": 108,
     "metadata": {},
     "output_type": "execute_result"
    }
   ],
   "source": [
    "anim=('dog','cat','rabbit')\n",
    "anim.index('cat')"
   ]
  },
  {
   "cell_type": "markdown",
   "id": "0ff94894-61a6-4866-bc8c-147382df5eb6",
   "metadata": {},
   "source": [
    "Question-15 Write a code to check if the element \"banana\" is in the tuple ('apple', 'orange', 'banana')?"
   ]
  },
  {
   "cell_type": "code",
   "execution_count": 113,
   "id": "de81d0cd-7f4e-4e38-88da-4298cab19073",
   "metadata": {},
   "outputs": [
    {
     "name": "stdout",
     "output_type": "stream",
     "text": [
      "All item in the basket\n"
     ]
    }
   ],
   "source": [
    "basket=('apple','orange','banana')\n",
    "if 'banana' in basket :\n",
    "    print ( 'All item in the basket')"
   ]
  },
  {
   "cell_type": "markdown",
   "id": "56651f2d-cf0a-4763-a0e1-10e95bf43b5a",
   "metadata": {},
   "source": [
    "Question-16 Write a code to create a set with the elements 1, 2, 3, 4, 5 and print it?"
   ]
  },
  {
   "cell_type": "code",
   "execution_count": 118,
   "id": "8f0f27dc-6ffe-449b-b859-b4b08686fcd5",
   "metadata": {},
   "outputs": [
    {
     "name": "stdout",
     "output_type": "stream",
     "text": [
      "{1, 2, 3, 4, 5}\n"
     ]
    }
   ],
   "source": [
    "set={ 1,2,3,4,5}\n",
    "print (set)"
   ]
  },
  {
   "cell_type": "markdown",
   "id": "8cb256a9-9b96-441d-80db-38c9f0687655",
   "metadata": {},
   "source": [
    "Question-17 Write a code to add the element 6 to the set {1, 2, 3, 4}?"
   ]
  },
  {
   "cell_type": "code",
   "execution_count": 127,
   "id": "3359507c-ee9b-4c85-86ba-02ae8a07683b",
   "metadata": {},
   "outputs": [
    {
     "name": "stdout",
     "output_type": "stream",
     "text": [
      "{1, 2, 3, 4, 6}\n"
     ]
    }
   ],
   "source": [
    "set1={1,2,3,4}\n",
    "set1.add(6)\n",
    "\n",
    "print(set1)"
   ]
  },
  {
   "cell_type": "markdown",
   "id": "af844e2f-3940-4e12-8938-a97b92575445",
   "metadata": {},
   "source": [
    "Question-18 Write a code to create a tuple with the elements 10, 20, 30 and print it?"
   ]
  },
  {
   "cell_type": "code",
   "execution_count": 131,
   "id": "d6eb9ff5-9c29-4367-89d2-5a216446278d",
   "metadata": {},
   "outputs": [
    {
     "name": "stdout",
     "output_type": "stream",
     "text": [
      "(10, 20, 30)\n"
     ]
    }
   ],
   "source": [
    "tup=(10,20,30)\n",
    "print (tup)"
   ]
  },
  {
   "cell_type": "markdown",
   "id": "7b2068e4-97e0-4123-b5b6-e5be39452581",
   "metadata": {},
   "source": [
    "Question-19 Write a code to access the first element of the tuple ('apple', 'banana', 'cherry')?"
   ]
  },
  {
   "cell_type": "code",
   "execution_count": 6,
   "id": "a448a9d1-c8e5-48cc-b435-392b1a24e70f",
   "metadata": {},
   "outputs": [
    {
     "name": "stdout",
     "output_type": "stream",
     "text": [
      "apple\n"
     ]
    }
   ],
   "source": [
    "# Creating a tuple\n",
    "fruits = ('apple', 'banana', 'cherry')\n",
    "fruits[0]\n",
    "print(first_element)\n"
   ]
  },
  {
   "cell_type": "markdown",
   "id": "07f65323-b23d-414f-8023-04c085f3d8e0",
   "metadata": {},
   "source": [
    "Question-20 Write a code to count how many times the number 2 appears in the tuple (1, 2, 3, 2, 4, 2)?"
   ]
  },
  {
   "cell_type": "code",
   "execution_count": 136,
   "id": "dd1eca67-c2ad-475e-81f0-138d1682d985",
   "metadata": {},
   "outputs": [
    {
     "data": {
      "text/plain": [
       "3"
      ]
     },
     "execution_count": 136,
     "metadata": {},
     "output_type": "execute_result"
    }
   ],
   "source": [
    "digit=(1,2,3,2,4,2)\n",
    "digit.count(2)"
   ]
  },
  {
   "cell_type": "markdown",
   "id": "f24877b7-ce21-47a2-975e-b8db1d813f29",
   "metadata": {},
   "source": [
    "Question-21 Write a code to find the index of the element \"cat\" in the tuple ('dog', 'cat', 'rabbit')?"
   ]
  },
  {
   "cell_type": "code",
   "execution_count": 145,
   "id": "b10f0446-e04d-425e-a4d7-37e17a5649e1",
   "metadata": {},
   "outputs": [
    {
     "data": {
      "text/plain": [
       "1"
      ]
     },
     "execution_count": 145,
     "metadata": {},
     "output_type": "execute_result"
    }
   ],
   "source": [
    "anim=('dog','cat','rabbit')\n",
    "anim.index('cat')"
   ]
  },
  {
   "cell_type": "markdown",
   "id": "ca8efdf8-58be-4c12-8e91-5f1e2b6a85f4",
   "metadata": {},
   "source": [
    "Question-22 Write a code to check if the element \"banana\" is in the tuple ('apple', 'orange', 'banana')?"
   ]
  },
  {
   "cell_type": "code",
   "execution_count": 148,
   "id": "3ae4595e-7f38-4343-9999-429efdff332b",
   "metadata": {},
   "outputs": [
    {
     "name": "stdout",
     "output_type": "stream",
     "text": [
      "All item in the basket\n"
     ]
    }
   ],
   "source": [
    "basket=('apple','orange','banana')\n",
    "if 'banana' in basket :\n",
    "    print ( 'All item in the basket')"
   ]
  },
  {
   "cell_type": "markdown",
   "id": "5e49f584-9149-4d92-a9cc-d97de199a0d9",
   "metadata": {},
   "source": [
    "Question-23 Write a code to create a set with the elements 1, 2, 3, 4, 5 and print it?"
   ]
  },
  {
   "cell_type": "code",
   "execution_count": 151,
   "id": "72610164-68c3-4d7c-9597-91ffd334a41c",
   "metadata": {},
   "outputs": [
    {
     "name": "stdout",
     "output_type": "stream",
     "text": [
      "{1, 2, 3, 4, 5}\n"
     ]
    }
   ],
   "source": [
    "set={ 1,2,3,4,5}\n",
    "print (set)"
   ]
  },
  {
   "cell_type": "markdown",
   "id": "ebb68474-57a5-437c-aa00-df984fee2228",
   "metadata": {},
   "source": [
    "Question-24 Write a code to add the element 6 to the set {1, 2, 3, 4}?"
   ]
  },
  {
   "cell_type": "code",
   "execution_count": 155,
   "id": "1b28bad5-585b-40d4-b7c7-5336fe2d15e7",
   "metadata": {},
   "outputs": [
    {
     "name": "stdout",
     "output_type": "stream",
     "text": [
      "{1, 2, 3, 4, 6}\n"
     ]
    }
   ],
   "source": [
    "set1={1,2,3,4}\n",
    "set1.add(6)\n",
    "\n",
    "print(set1)"
   ]
  },
  {
   "cell_type": "code",
   "execution_count": null,
   "id": "2bb256c9-3eae-4b76-8ec9-14992dc31ad7",
   "metadata": {},
   "outputs": [],
   "source": []
  }
 ],
 "metadata": {
  "kernelspec": {
   "display_name": "Python 3 (ipykernel)",
   "language": "python",
   "name": "python3"
  },
  "language_info": {
   "codemirror_mode": {
    "name": "ipython",
    "version": 3
   },
   "file_extension": ".py",
   "mimetype": "text/x-python",
   "name": "python",
   "nbconvert_exporter": "python",
   "pygments_lexer": "ipython3",
   "version": "3.12.7"
  }
 },
 "nbformat": 4,
 "nbformat_minor": 5
}
